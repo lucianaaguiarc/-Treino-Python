{
 "cells": [
  {
   "cell_type": "markdown",
   "metadata": {},
   "source": [
    "## Exercício 01\n",
    "#### Escreva \"Olá mundo!\" na tela"
   ]
  },
  {
   "cell_type": "code",
   "execution_count": null,
   "metadata": {},
   "outputs": [],
   "source": [
    "print( 'Olá mundo!' )"
   ]
  },
  {
   "cell_type": "markdown",
   "metadata": {},
   "source": [
    "## Exercício 02\n",
    "#### Escreva um código que leia o nome de uma pessoa e mostre uma mensagem de boas vindas"
   ]
  },
  {
   "cell_type": "code",
   "execution_count": null,
   "metadata": {},
   "outputs": [],
   "source": [
    "nome = input( 'Digite seu nome: ' )\n",
    "print( 'É uma prazer te conhecer, {}!'.format(nome) )"
   ]
  },
  {
   "cell_type": "markdown",
   "metadata": {},
   "source": [
    "## Exercício 03\n",
    "#### Escreva um código que leia dois números e mostre a soma entre eles"
   ]
  },
  {
   "cell_type": "code",
   "execution_count": null,
   "metadata": {},
   "outputs": [],
   "source": [
    "n1 = int( input( 'Digite o primeiro número: ' ) )\n",
    "n2 = int( input( 'Digite o segundo número: ' ) )\n",
    "soma = n1+n2\n",
    "print( 'A soma de {} e {} é {}'.format( n1, n2, soma) )\n",
    "print (f'A soma de {n1} e {n2} é {soma}') #Válido apenas para versões do python > 3.7"
   ]
  },
  {
   "cell_type": "markdown",
   "metadata": {},
   "source": [
    "## Exercício 04\n",
    "#### Escreva um código que leia alguma informação e mostre na tela o tipo de dados e caracteríticas sobre ela"
   ]
  },
  {
   "cell_type": "code",
   "execution_count": null,
   "metadata": {},
   "outputs": [],
   "source": [
    "dado = input( 'Digite alguma informação: ' ) \n",
    "print( 'O tipo de dado dessa informação é: ', type( dado ) )\n",
    "print( 'Só tem espaços?', dado.isspace() )\n",
    "print( 'É um número?', dado.isnumeric() )\n",
    "print( 'É alfabético?', dado.isalpha() )\n",
    "print( 'É alfanumérico?', dado.isalnum() )\n",
    "print( 'É capitalizada?', dado.istitle() )\n"
   ]
  },
  {
   "cell_type": "markdown",
   "metadata": {},
   "source": [
    "## Exercício 05\n",
    "#### Escreva um código que leia um número e mostre seu antecessor e sucessor"
   ]
  },
  {
   "cell_type": "code",
   "execution_count": null,
   "metadata": {},
   "outputs": [],
   "source": [
    "n = int( input ( 'Digite um número:' ) )\n",
    "print(f'O antecessor de {n} é {n-1} e o sucessor é {n+1}' )"
   ]
  },
  {
   "cell_type": "markdown",
   "metadata": {},
   "source": [
    "## Exercício 06\n",
    "#### Escreva um código que leia um número e mostre seu dobro, triplo e raiz quadrada"
   ]
  },
  {
   "cell_type": "code",
   "execution_count": null,
   "metadata": {},
   "outputs": [],
   "source": [
    "n = int( input( 'Digite um número:' ) )\n",
    "print( f'O dobro de {n} é {n*2}, o triplo é {n*3} e a raiz quadrada é {n**0.5}' )"
   ]
  },
  {
   "cell_type": "markdown",
   "metadata": {},
   "source": [
    "## Exercício 07\n",
    "#### Escreva um código que leia duas notas de um aluno e calcule sua média"
   ]
  },
  {
   "cell_type": "code",
   "execution_count": null,
   "metadata": {},
   "outputs": [],
   "source": [
    "n1 = float( input( 'Digite a primeira nota do aluno:' ) )\n",
    "n2 = float( input( 'Digite a segunda nota do aluno:' ) )\n",
    "\n",
    "print( 'A média das notas do aluno é {:.2f}'.format( (n1+n2)/2 ) )"
   ]
  },
  {
   "cell_type": "markdown",
   "metadata": {},
   "source": [
    "## Exercício 08\n",
    "#### Escreva um código que leia um valor em metros e converta para cm e mm"
   ]
  },
  {
   "cell_type": "code",
   "execution_count": null,
   "metadata": {},
   "outputs": [],
   "source": [
    "\n"
   ]
  },
  {
   "cell_type": "markdown",
   "metadata": {},
   "source": [
    "## Exercício 09\n",
    "#### Escreva um código que leia um número inteiro qualquer e mostre na tela sua tabuada"
   ]
  },
  {
   "cell_type": "code",
   "execution_count": null,
   "metadata": {},
   "outputs": [],
   "source": []
  },
  {
   "cell_type": "markdown",
   "metadata": {},
   "source": [
    "## Exercício 10\n",
    "#### Escreva um código que leia quanto dinheiro uma pessoa tem na carteira e mostre quantos dólares ela pode comprar"
   ]
  },
  {
   "cell_type": "code",
   "execution_count": null,
   "metadata": {},
   "outputs": [],
   "source": []
  },
  {
   "cell_type": "markdown",
   "metadata": {},
   "source": [
    "## Exercício 11\n",
    "#### Escreva um código que leia a largura e altura de uma parede, calcule sua área e a quantidade de tinta necessária para pintá-la (cada litro de tinta pinta 2m²)"
   ]
  },
  {
   "cell_type": "code",
   "execution_count": null,
   "metadata": {},
   "outputs": [],
   "source": [
    "\n"
   ]
  },
  {
   "cell_type": "markdown",
   "metadata": {},
   "source": [
    "## Exercício 12\n",
    "#### Escreva um código que leia o preço de um produto e mostre seu novo preço com 5% de desconto"
   ]
  },
  {
   "cell_type": "code",
   "execution_count": null,
   "metadata": {},
   "outputs": [],
   "source": [
    "\n"
   ]
  },
  {
   "cell_type": "markdown",
   "metadata": {},
   "source": [
    "## Exercício 13\n",
    "#### Escreva um código que leia o salário de um funcionário e mostre seu novo salário com 15% de aumento"
   ]
  },
  {
   "cell_type": "code",
   "execution_count": null,
   "metadata": {},
   "outputs": [],
   "source": []
  }
 ],
 "metadata": {
  "interpreter": {
   "hash": "d60d7560c5f0e159a94b999f7f0d2eee687e663f067ba6e65e295a97a2e5563c"
  },
  "kernelspec": {
   "display_name": "Python 3.9.1 64-bit",
   "language": "python",
   "name": "python3"
  },
  "language_info": {
   "codemirror_mode": {
    "name": "ipython",
    "version": 3
   },
   "file_extension": ".py",
   "mimetype": "text/x-python",
   "name": "python",
   "nbconvert_exporter": "python",
   "pygments_lexer": "ipython3",
   "version": "3.9.1"
  },
  "orig_nbformat": 4
 },
 "nbformat": 4,
 "nbformat_minor": 2
}
