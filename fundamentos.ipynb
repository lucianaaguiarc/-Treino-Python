{
 "cells": [
  {
   "cell_type": "markdown",
   "metadata": {},
   "source": [
    "## Exercício 01\n",
    "#### Escreva \"Olá mundo!\" na tela"
   ]
  },
  {
   "cell_type": "code",
   "execution_count": null,
   "metadata": {},
   "outputs": [],
   "source": [
    "print( 'Olá mundo!' )"
   ]
  },
  {
   "cell_type": "markdown",
   "metadata": {},
   "source": [
    "## Exercício 02\n",
    "#### Escreva um código que leia o nome de uma pessoa e mostre uma mensagem de boas vindas"
   ]
  },
  {
   "cell_type": "code",
   "execution_count": null,
   "metadata": {},
   "outputs": [],
   "source": [
    "nome = input( 'Digite seu nome: ' )\n",
    "print( 'É uma prazer te conhecer, {}!'.format(nome) )"
   ]
  },
  {
   "cell_type": "markdown",
   "metadata": {},
   "source": [
    "## Exercício 03\n",
    "#### Escreva um código que leia dois números e mostre a soma entre eles"
   ]
  },
  {
   "cell_type": "code",
   "execution_count": null,
   "metadata": {},
   "outputs": [],
   "source": [
    "n1 = int( input( 'Digite o primeiro número: ' ) )\n",
    "n2 = int( input( 'Digite o segundo número: ' ) )\n",
    "soma = n1+n2\n",
    "print( 'A soma de {} e {} é {}'.format( n1, n2, soma) )\n",
    "print (f'A soma de {n1} e {n2} é {soma}') #Válido apenas para versões do python > 3.7"
   ]
  },
  {
   "cell_type": "markdown",
   "metadata": {},
   "source": [
    "## Exercício 04\n",
    "#### Escreva um código que leia alguma informação e mostre na tela o tipo de dados e caracteríticas sobre ela"
   ]
  },
  {
   "cell_type": "code",
   "execution_count": null,
   "metadata": {},
   "outputs": [],
   "source": [
    "dado = input( 'Digite alguma informação: ' ) \n",
    "print( 'O tipo de dado dessa informação é: ', type( dado ) )\n",
    "print( 'Só tem espaços?', dado.isspace() )\n",
    "print( 'É um número?', dado.isnumeric() )\n",
    "print( 'É alfabético?', dado.isalpha() )\n",
    "print( 'É alfanumérico?', dado.isalnum() )\n",
    "print( 'É capitalizada?', dado.istitle() )\n"
   ]
  },
  {
   "cell_type": "markdown",
   "metadata": {},
   "source": [
    "## Exercício 05\n",
    "#### Escreva um código que leia um número e mostre seu antecessor e sucessor"
   ]
  },
  {
   "cell_type": "code",
   "execution_count": null,
   "metadata": {},
   "outputs": [],
   "source": [
    "n = int( input ( 'Digite um número:' ) )\n",
    "print(f'O antecessor de {n} é {n-1} e o sucessor é {n+1}' )"
   ]
  },
  {
   "cell_type": "markdown",
   "metadata": {},
   "source": [
    "## Exercício 06\n",
    "#### Escreva um código que leia um número e mostre seu dobro, triplo e raiz quadrada"
   ]
  },
  {
   "cell_type": "code",
   "execution_count": null,
   "metadata": {},
   "outputs": [],
   "source": [
    "n = int( input( 'Digite um número:' ) )\n",
    "print( f'O dobro de {n} é {n*2}, o triplo é {n*3} e a raiz quadrada é {n**0.5}' )"
   ]
  },
  {
   "cell_type": "markdown",
   "metadata": {},
   "source": [
    "## Exercício 07\n",
    "#### Escreva um código que leia duas notas de um aluno e calcule sua média"
   ]
  },
  {
   "cell_type": "code",
   "execution_count": null,
   "metadata": {},
   "outputs": [],
   "source": [
    "n1 = float( input( 'Digite a primeira nota do aluno:' ) )\n",
    "n2 = float( input( 'Digite a segunda nota do aluno:' ) )\n",
    "\n",
    "print( 'A média das notas do aluno é {:.2f}'.format( (n1+n2)/2 ) )"
   ]
  },
  {
   "cell_type": "markdown",
   "metadata": {},
   "source": [
    "## Exercício 08\n",
    "#### Escreva um código que leia um valor em metros e converta para cm e mm"
   ]
  },
  {
   "cell_type": "code",
   "execution_count": null,
   "metadata": {},
   "outputs": [],
   "source": [
    "metros = float( input( 'Digite um valor em metros:' ) )\n",
    "\n",
    "print( f'{metros} metros equivale a {metros*100} cm e {metros*1000} mm' )"
   ]
  },
  {
   "cell_type": "markdown",
   "metadata": {},
   "source": [
    "## Exercício 09\n",
    "#### Escreva um código que leia um número inteiro qualquer e mostre na tela sua tabuada"
   ]
  },
  {
   "cell_type": "code",
   "execution_count": null,
   "metadata": {},
   "outputs": [],
   "source": [
    "n = int ( input( 'Digite um número:' ) )\n",
    "\n",
    "print( f'A tabuada de {n} é: \\n' )\n",
    "print( f'{n} * 0 = {n*0}' )\n",
    "print( f'{n} * 1 = {n*1}' )\n",
    "print( f'{n} * 2 = {n*2}' )\n",
    "print( f'{n} * 3 = {n*3}' )\n",
    "print( f'{n} * 4 = {n*4}' )\n",
    "print( f'{n} * 5 = {n*5}' )\n",
    "print( f'{n} * 6 = {n*6}' )\n",
    "print( f'{n} * 7 = {n*7}' )\n",
    "print( f'{n} * 8 = {n*8}' )\n",
    "print( f'{n} * 9 = {n*9}' )\n",
    "print( f'{n} * 10 = {n*10}' )\n"
   ]
  },
  {
   "cell_type": "markdown",
   "metadata": {},
   "source": [
    "## Exercício 10\n",
    "#### Escreva um código que leia quanto dinheiro uma pessoa tem na carteira e mostre quantos dólares ela pode comprar"
   ]
  },
  {
   "cell_type": "code",
   "execution_count": null,
   "metadata": {},
   "outputs": [],
   "source": [
    "real = float( input('Digite quantos reais você tem:') )\n",
    "\n",
    "print( 'Com {:.2f} reais você consegue comprar {:.2f} dólares'.format(real, real/5.61) )"
   ]
  },
  {
   "cell_type": "markdown",
   "metadata": {},
   "source": [
    "## Exercício 11\n",
    "#### Escreva um código que leia a largura e altura de uma parede, calcule sua área e a quantidade de tinta necessária para pintá-la (cada litro de tinta pinta 2m²)"
   ]
  },
  {
   "cell_type": "code",
   "execution_count": null,
   "metadata": {},
   "outputs": [],
   "source": [
    "l = float( input( 'Digite a largura da parede em metros:' ) )\n",
    "h = float( input( 'Digite a altura da parede em metros:' ) )\n",
    "area = l*h\n",
    "print( f'A área da parede é {area} m²' )\n",
    "print( f'Para pintar a parede são necessários {area/2} litros de tinta' )"
   ]
  },
  {
   "cell_type": "markdown",
   "metadata": {},
   "source": [
    "## Exercício 12\n",
    "#### Escreva um código que leia o preço de um produto e mostre seu novo preço com 5% de desconto"
   ]
  },
  {
   "cell_type": "code",
   "execution_count": null,
   "metadata": {},
   "outputs": [],
   "source": [
    "p = float ( input( 'Digite o preço do produto: ' ) )\n",
    "\n",
    "print( f'O novo valor do produto com desconto é R$ {p*0.95}' )"
   ]
  },
  {
   "cell_type": "markdown",
   "metadata": {},
   "source": [
    "## Exercício 13\n",
    "#### Escreva um código que leia o salário de um funcionário e mostre seu novo salário com 15% de aumento"
   ]
  },
  {
   "cell_type": "code",
   "execution_count": null,
   "metadata": {},
   "outputs": [],
   "source": [
    "s = float( input( 'Digite o salário do colaborador:' ) )\n",
    "\n",
    "print( f'O novo salário com aumento é de R$ {s*1.15}')"
   ]
  },
  {
   "cell_type": "markdown",
   "metadata": {},
   "source": [
    "## Exercício 14\n",
    "#### Escreva um código que leia a temperatura em Celcius e converta para Fahrenheit"
   ]
  },
  {
   "cell_type": "code",
   "execution_count": null,
   "metadata": {},
   "outputs": [],
   "source": [
    "c = float( input( 'Digite a temperatura em Celcius:' ) )\n",
    "\n",
    "print( f'A temperatura {c} celcius equivale a {c*1.8+32} fahrenheit')"
   ]
  },
  {
   "cell_type": "markdown",
   "metadata": {},
   "source": [
    "## Exercício 15\n",
    "####  Escreva um código que pergunte a quantidade de Km percorridos por um carro alugado e a quantidade de dias pelos quais ele foi alugado. Calcule o preço a pagar, sabendo que o carro custa R$60 por dia e R$0,15 por Km rodado."
   ]
  },
  {
   "cell_type": "code",
   "execution_count": null,
   "metadata": {},
   "outputs": [],
   "source": [
    "km = float( input( 'Digite o total de km rodados:' ) )\n",
    "dias = float( input( 'Digite o total de dias do aluguel:' ) )\n",
    "\n",
    "print( f'O total a pagar é de R${(60*dias) + (0.15*km)}')"
   ]
  },
  {
   "cell_type": "markdown",
   "metadata": {},
   "source": [
    "## Exercício 16\n",
    "####  Escreva um código que leia um número real e mostre a parte inteira"
   ]
  },
  {
   "cell_type": "code",
   "execution_count": null,
   "metadata": {},
   "outputs": [],
   "source": [
    "from math import trunc\n",
    "\n",
    "n = float ( input( 'Digite um número real:' ) )\n",
    "print( f'A parte inteira de {n} é {trunc(n)}' )"
   ]
  },
  {
   "cell_type": "markdown",
   "metadata": {},
   "source": [
    "## Exercício 17\n",
    "####  Escreva um código que leia o comprimento dos catetos oposto e adjacente e calcule a hipotenusa"
   ]
  },
  {
   "cell_type": "code",
   "execution_count": null,
   "metadata": {},
   "outputs": [],
   "source": [
    "#Primeira forma (raiz)\n",
    "\n",
    "from math import sqrt\n",
    "\n",
    "cat_oposto = float( input( 'Digite o valor do cateto oposto: ' ) )\n",
    "cat_adj = float( input( 'Digite o valor do cateto adjacente: ' ) )\n",
    "hip = sqrt( ((cat_oposto)**2) + (cat_adj)**2 )\n",
    "\n",
    "print( 'A hipotenusa é igual a {:.2f}'.format(hip)) "
   ]
  },
  {
   "cell_type": "code",
   "execution_count": null,
   "metadata": {},
   "outputs": [],
   "source": [
    "#Segunda forma (método hipotenusa)\n",
    "\n",
    "from math import hypot\n",
    "\n",
    "cat_oposto = float( input( 'Digite o valor do cateto oposto: ' ) )\n",
    "cat_adj = float( input( 'Digite o valor do cateto adjacente: ' ) )\n",
    "hip = hypot(cat_oposto, cat_adj)\n",
    "\n",
    "print( 'A hipotenusa é igual a {:.2f}'.format(hip)) "
   ]
  },
  {
   "cell_type": "markdown",
   "metadata": {},
   "source": [
    "## Exercício 18\n",
    "####  Escreva um código que leia um ângulo e mostre seu seno, cosseno e tangente"
   ]
  },
  {
   "cell_type": "code",
   "execution_count": null,
   "metadata": {},
   "outputs": [],
   "source": [
    "from math import cos, sin, tan,radians\n",
    "\n",
    "angulo = float( input( 'Digite o valor do ângulo:' ) )\n",
    "cosseno = cos(radians(angulo))\n",
    "sen = sin(radians(angulo))\n",
    "tang = tan(radians(angulo))\n",
    "\n",
    "print( 'A trigonometria básica do ângulo {:.2f} é-> \\n cosseno: {:.2f} \\n seno: {:.2f} \\n tangente: {:.2f}'.format(angulo, cosseno, sen, tang ) )"
   ]
  },
  {
   "cell_type": "code",
   "execution_count": null,
   "metadata": {},
   "outputs": [],
   "source": [
    "from math import cos, sin, tan,radians\n",
    "\n",
    "angulo = float( input( 'Digite o valor do ângulo:' ) )\n",
    "\n",
    "print( f'A trigonometria básica do ângulo {angulo} é-> \\n cosseno: {round( cos(radians(angulo)), 2 )} \\n seno: {round( sin(radians(angulo)), 2 )} \\n tangente: {round( tan(radians(angulo)), 2 )}' )"
   ]
  },
  {
   "cell_type": "markdown",
   "metadata": {},
   "source": [
    "## Exercício 19\n",
    "####  Um professor quer sortear um aluno para apagar o quadro. Escreva um código que leia o nome de 4 alunos e escreva o nome do aluno escolhido."
   ]
  },
  {
   "cell_type": "code",
   "execution_count": null,
   "metadata": {},
   "outputs": [],
   "source": [
    "from random import choice\n",
    "\n",
    "a1 = input( 'Digite o nome do primeiro aluno:' )\n",
    "a2 = input( 'Digite o nome do segundo aluno:' )\n",
    "a3 = input( 'Digite o nome do terceiro aluno:' )\n",
    "a4 = input( 'Digite o nome do quarto aluno:' )\n",
    "\n",
    "lista = [a1, a2, a3, a4]\n",
    "\n",
    "print( f'O aluno escolhido para apagar o quadro é -> {choice(lista)}' )"
   ]
  },
  {
   "cell_type": "markdown",
   "metadata": {},
   "source": [
    "## Exercício 20\n",
    "####  Um professor quer sortear a ordem de apresentação de um trabalho entre os alunos. Escreva um código que leia o nome de 4 alunos e escreva a ordem sorteada."
   ]
  },
  {
   "cell_type": "code",
   "execution_count": null,
   "metadata": {},
   "outputs": [],
   "source": [
    "from random import shuffle\n",
    "\n",
    "a1 = input( 'Digite o nome do primeiro aluno:' )\n",
    "a2 = input( 'Digite o nome do segundo aluno:' )\n",
    "a3 = input( 'Digite o nome do terceiro aluno:' )\n",
    "a4 = input( 'Digite o nome do quarto aluno:' )\n",
    "\n",
    "lista = [a1, a2, a3, a4]\n",
    "\n",
    "shuffle(lista)\n",
    "\n",
    "print(f'O aluno escolhido para apagar o quadro é -> {lista}')"
   ]
  },
  {
   "cell_type": "markdown",
   "metadata": {},
   "source": [
    "## Exercício 21\n",
    "####  Escreva um código que abra e reproduza um arquivo MP3."
   ]
  },
  {
   "cell_type": "code",
   "execution_count": null,
   "metadata": {},
   "outputs": [],
   "source": [
    "from pygame import mixer, event  # Load the popular external library\n",
    "import time\n",
    "\n",
    "mixer.init()\n",
    "mixer.music.load('data\\ex21.mp3')\n",
    "mixer.music.play()"
   ]
  },
  {
   "cell_type": "markdown",
   "metadata": {},
   "source": [
    "#### Fazendo um remix"
   ]
  },
  {
   "cell_type": "code",
   "execution_count": null,
   "metadata": {},
   "outputs": [],
   "source": [
    "from pygame import mixer\n",
    "import time\n",
    "\n",
    "mixer.init()\n",
    "mixer.music.load('data\\ex21.mp3')\n",
    "mixer.music.play()\n",
    "time.sleep(4)\n",
    "mixer.music.pause()\n",
    "time.sleep(2)\n",
    "mixer.music.unpause()\n",
    "time.sleep(5)\n",
    "mixer.music.pause()\n",
    "time.sleep(3)\n",
    "mixer.music.unpause()\n",
    "time.sleep(5)\n",
    "mixer.music.pause()"
   ]
  },
  {
   "cell_type": "markdown",
   "metadata": {},
   "source": [
    "## Exercício 22\n",
    "####  Escreva um código que leia o nome completo de uma pessoa e mostre\n",
    "#### 1) O nome com todas as letras maiúsculas\n",
    "#### 2) O nome com todas as letras monúsculas\n",
    "#### 3) Quantas letras ao todo (sem contas os espaços)\n",
    "#### 4) Quantas letras tem o primeiro nome"
   ]
  },
  {
   "cell_type": "code",
   "execution_count": null,
   "metadata": {},
   "outputs": [],
   "source": [
    "nome = str( input( 'Digite seu nome completo:' ) )\n",
    "nome_split = nome.split()\n",
    "nome_concat = ''.join(nome_split)\n",
    "\n",
    "print( f'Nome 100% maiúsculo: {nome.upper()}' )\n",
    "print( f'Nome 100% minúsculo: {nome.lower()}' )\n",
    "print( f'O total de caracteres é: {len( nome_concat )}' )\n",
    "print( f'O total de caracteres do primeiro nome é: {len( nome_split[0]) }' )\n"
   ]
  },
  {
   "cell_type": "markdown",
   "metadata": {},
   "source": [
    "## Exercício 23\n",
    "####  Escreva um código que leia um número de 0 a 9999 e mostre na tela os dígitos separados\n",
    "#### Ex: 1834 -> unidade: 4, dezena: 3, centena: 8, milhar: 1\n",
    "\n",
    "#### Tente fazer tanto com string quanto matematicamente"
   ]
  },
  {
   "cell_type": "code",
   "execution_count": null,
   "metadata": {},
   "outputs": [],
   "source": [
    "n = str( input( 'Digite um número entre 0 e 9999' ) )\n",
    "lista = [n]\n",
    "\n",
    "print ( f'A unidade de {n} é {n[3]}' )\n",
    "print ( f'A dezena de {n} é {n[2]}' )\n",
    "print ( f'A centena de {n} é {n[1]}' )\n",
    "print ( f'A milhar de {n} é {n[0]}' )"
   ]
  },
  {
   "cell_type": "markdown",
   "metadata": {},
   "source": [
    "## Exercício 24\n",
    "####  Escreva um código que leia o nome de uma cidade e diga se ela começa ou não com a palavra \"SANTO\""
   ]
  },
  {
   "cell_type": "code",
   "execution_count": null,
   "metadata": {},
   "outputs": [],
   "source": [
    "cidade = str( input('Digite o nome da cidade') )\n",
    "cidade_split = cidade.upper().split()\n",
    "lista = [cidade_split]\n",
    "c = cidade_split[0].startswith('SANTO')\n",
    "\n",
    "print(cidade[0])\n",
    "print(lista)\n",
    "print( f'A cidade \"{cidade}\" começa com SANTO? {c}' )"
   ]
  },
  {
   "cell_type": "markdown",
   "metadata": {},
   "source": [
    "## Exercício 25\n",
    "####  Escreva um código que leia o nome completo de uma pessoa e diga se ela tem \"SILVA\" no nome"
   ]
  },
  {
   "cell_type": "code",
   "execution_count": null,
   "metadata": {},
   "outputs": [],
   "source": [
    "nome = str( input('Digite seu nome completo:') ).upper()\n",
    "\n",
    "print( f'O seu nome tem Silva? -> {\"SILVA\" in nome}' )"
   ]
  },
  {
   "cell_type": "markdown",
   "metadata": {},
   "source": [
    "## Exercício 26\n",
    "####  Escreva um código que leia uma frase e diga quantas vezes aparece a letra \"a\", em qual posição ela aparece a primeira vez e em qual posição ela aparece a segunda vez"
   ]
  },
  {
   "cell_type": "code",
   "execution_count": null,
   "metadata": {},
   "outputs": [],
   "source": [
    "frase = str( input( 'Digite uma frase:' ) )\n",
    "cont = frase.count('a')\n",
    "buscador = frase.find('a')\n",
    "\n",
    "print( f'A letra \"a\" aparece {cont} vezes na frase {frase}')\n",
    "print( f'A primeira vez que a letra \"a\" aparece é na posição {buscador}')"
   ]
  },
  {
   "cell_type": "markdown",
   "metadata": {},
   "source": [
    "## Exercício 27\n",
    "####  Escreva um código que leia o nome completo de uma pessoa e mostre o primeiro e o último nome separadamente (tem qua funcionar para qualquer tamanho de string)"
   ]
  },
  {
   "cell_type": "code",
   "execution_count": null,
   "metadata": {},
   "outputs": [],
   "source": [
    "nome = str( input( 'Digite seu nome completo:' ) )\n",
    "nome_split = nome.split()\n",
    "lista = nome_split\n",
    "\n",
    "print( f'O nome \"{nome}\" tem seu primeiro nome \"{lista[0]}\" e o último \"{lista[-1]}\"')"
   ]
  },
  {
   "cell_type": "markdown",
   "metadata": {},
   "source": [
    "## Exercício 28\n",
    "####  Escreva um programa que faça o computador \"pensar\" em um número inteiro entre 0 e 5 e peça para o usuário tentar descobrir qual foi o número escolhido pelo computador. O programa deverá escrever na tela se o usuário venceu ou perdeu."
   ]
  },
  {
   "cell_type": "code",
   "execution_count": null,
   "metadata": {},
   "outputs": [],
   "source": []
  },
  {
   "cell_type": "markdown",
   "metadata": {},
   "source": [
    "## Exercício 29\n",
    "#### Escreva um programa que leia a velocidade de um carro. Se ele ultrapassar 80Km/h, mostre uma mensagem dizendo que ele foi multado. A multa vai custar R$7,00 por cada Km acima do limite."
   ]
  },
  {
   "cell_type": "code",
   "execution_count": null,
   "metadata": {},
   "outputs": [],
   "source": []
  },
  {
   "cell_type": "markdown",
   "metadata": {},
   "source": [
    "## Exercício 30\n",
    "####  Crie um programa que leia um número inteiro e mostre na tela se ele é PAR ou ÍMPAR."
   ]
  },
  {
   "cell_type": "code",
   "execution_count": null,
   "metadata": {},
   "outputs": [],
   "source": []
  },
  {
   "cell_type": "markdown",
   "metadata": {},
   "source": [
    "## Exercício 31\n",
    "####  Desenvolva um programa que pergunte a distância de uma viagem em Km. Calcule o preço da passagem, cobrando R$0,50 por Km para viagens de até 200Km e R$0,45 parta viagens mais longas."
   ]
  },
  {
   "cell_type": "code",
   "execution_count": null,
   "metadata": {},
   "outputs": [],
   "source": []
  },
  {
   "cell_type": "markdown",
   "metadata": {},
   "source": [
    "## Exercício 32\n",
    "####  Faça um programa que leia um ano qualquer e mostre se ele é bissexto."
   ]
  },
  {
   "cell_type": "code",
   "execution_count": null,
   "metadata": {},
   "outputs": [],
   "source": []
  },
  {
   "cell_type": "markdown",
   "metadata": {},
   "source": [
    "## Exercício 33\n",
    "####  Faça um programa que leia três números e mostre qual é o maior e qual é o menor."
   ]
  },
  {
   "cell_type": "code",
   "execution_count": null,
   "metadata": {},
   "outputs": [],
   "source": []
  },
  {
   "cell_type": "markdown",
   "metadata": {},
   "source": [
    "## Exercício 34\n",
    "####  Escreva um programa que pergunte o salário de um funcionário e calcule o valor do seu aumento. Para salários superiores a R$1250,00, calcule um aumento de 10%. Para os inferiores ou iguais, o aumento é de 15%."
   ]
  },
  {
   "cell_type": "code",
   "execution_count": null,
   "metadata": {},
   "outputs": [],
   "source": []
  },
  {
   "cell_type": "markdown",
   "metadata": {},
   "source": [
    "## Exercício 35\n",
    "####  Desenvolva um programa que leia o comprimento de três retas e diga ao usuário se elas podem ou não formar um triângulo."
   ]
  },
  {
   "cell_type": "code",
   "execution_count": null,
   "metadata": {},
   "outputs": [],
   "source": []
  }
 ],
 "metadata": {
  "interpreter": {
   "hash": "d60d7560c5f0e159a94b999f7f0d2eee687e663f067ba6e65e295a97a2e5563c"
  },
  "kernelspec": {
   "display_name": "Python 3.9.1 64-bit",
   "language": "python",
   "name": "python3"
  },
  "language_info": {
   "codemirror_mode": {
    "name": "ipython",
    "version": 3
   },
   "file_extension": ".py",
   "mimetype": "text/x-python",
   "name": "python",
   "nbconvert_exporter": "python",
   "pygments_lexer": "ipython3",
   "version": "3.10.2"
  },
  "orig_nbformat": 4
 },
 "nbformat": 4,
 "nbformat_minor": 2
}
