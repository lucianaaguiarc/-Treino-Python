{
 "cells": [
  {
   "cell_type": "markdown",
   "metadata": {},
   "source": [
    "## Exercício 01\n",
    "#### Escreva \"Olá mundo!\" na tela"
   ]
  },
  {
   "cell_type": "code",
   "execution_count": null,
   "metadata": {},
   "outputs": [],
   "source": [
    "print( 'Olá mundo!' )"
   ]
  },
  {
   "cell_type": "markdown",
   "metadata": {},
   "source": [
    "## Exercício 02\n",
    "#### Escreva um código que leia o nome de uma pessoa e mostre uma mensagem de boas vindas"
   ]
  },
  {
   "cell_type": "code",
   "execution_count": null,
   "metadata": {},
   "outputs": [],
   "source": [
    "nome = input( 'Digite seu nome: ' )\n",
    "print( 'É uma prazer te conhecer, {}!'.format(nome) )"
   ]
  },
  {
   "cell_type": "markdown",
   "metadata": {},
   "source": [
    "## Exercício 03\n",
    "#### Escreva um código que leia dois números e mostre a soma entre eles"
   ]
  },
  {
   "cell_type": "code",
   "execution_count": null,
   "metadata": {},
   "outputs": [],
   "source": [
    "n1 = int( input( 'Digite o primeiro número: ' ) )\n",
    "n2 = int( input( 'Digite o segundo número: ' ) )\n",
    "soma = n1+n2\n",
    "print( 'A soma de {} e {} é {}'.format( n1, n2, soma) )\n",
    "print (f'A soma de {n1} e {n2} é {soma}') #Válido apenas para versões do python > 3.7"
   ]
  },
  {
   "cell_type": "markdown",
   "metadata": {},
   "source": [
    "## Exercício 04\n",
    "#### Escreva um código que leia alguma informação e mostre na tela o tipo de dados e caracteríticas sobre ela"
   ]
  },
  {
   "cell_type": "code",
   "execution_count": null,
   "metadata": {},
   "outputs": [],
   "source": [
    "dado = input( 'Digite alguma informação: ' ) \n",
    "print( 'O tipo de dado dessa informação é: ', type( dado ) )\n",
    "print( 'Só tem espaços?', dado.isspace() )\n",
    "print( 'É um número?', dado.isnumeric() )\n",
    "print( 'É alfabético?', dado.isalpha() )\n",
    "print( 'É alfanumérico?', dado.isalnum() )\n",
    "print( 'É capitalizada?', dado.istitle() )\n"
   ]
  }
 ],
 "metadata": {
  "interpreter": {
   "hash": "d60d7560c5f0e159a94b999f7f0d2eee687e663f067ba6e65e295a97a2e5563c"
  },
  "kernelspec": {
   "display_name": "Python 3.9.1 64-bit",
   "language": "python",
   "name": "python3"
  },
  "language_info": {
   "codemirror_mode": {
    "name": "ipython",
    "version": 3
   },
   "file_extension": ".py",
   "mimetype": "text/x-python",
   "name": "python",
   "nbconvert_exporter": "python",
   "pygments_lexer": "ipython3",
   "version": "3.9.1"
  },
  "orig_nbformat": 4
 },
 "nbformat": 4,
 "nbformat_minor": 2
}
